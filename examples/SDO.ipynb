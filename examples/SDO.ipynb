{
 "cells": [
  {
   "cell_type": "markdown",
   "id": "b1679638",
   "metadata": {},
   "source": [
    "# Solar Dynamics Observatory\n",
    "\n",
    "Single timeseries of EUV data"
   ]
  },
  {
   "cell_type": "code",
   "execution_count": null,
   "id": "9bad6590",
   "metadata": {},
   "outputs": [],
   "source": [
    "import intake\n",
    "import hvplot.xarray"
   ]
  },
  {
   "cell_type": "code",
   "execution_count": null,
   "id": "25b832d8",
   "metadata": {},
   "outputs": [],
   "source": [
    "cat = intake.open_catalog(\"https://github.com/fsspec/kerchunk/raw/main/\"\n",
    "                          \"examples/intake_catalog.yml\")"
   ]
  },
  {
   "cell_type": "code",
   "execution_count": null,
   "id": "d9e804ab",
   "metadata": {},
   "outputs": [],
   "source": [
    "ds = cat.SDO.to_dask()"
   ]
  },
  {
   "cell_type": "code",
   "execution_count": null,
   "id": "b796814e",
   "metadata": {},
   "outputs": [],
   "source": [
    "import numpy as np\n",
    "ds = ds.assign_coords(x=np.arange(4096), y=np.arange(4096))"
   ]
  },
  {
   "cell_type": "code",
   "execution_count": null,
   "id": "80450785",
   "metadata": {},
   "outputs": [],
   "source": [
    "ds"
   ]
  },
  {
   "cell_type": "code",
   "execution_count": null,
   "id": "3111b1eb",
   "metadata": {},
   "outputs": [],
   "source": [
    "ds.nbytes / 2**30. # GB"
   ]
  },
  {
   "cell_type": "markdown",
   "id": "0bff3d30",
   "metadata": {},
   "source": [
    "### Viz"
   ]
  },
  {
   "cell_type": "code",
   "execution_count": null,
   "id": "1a826fb8",
   "metadata": {},
   "outputs": [],
   "source": [
    "import numpy as np\n",
    "ds[\"094\"].hvplot.image('x', 'y', colormap=\"fire\", xaxis=False, yaxis=False, \n",
    "                height=500, width=500, colorbar=False, clim=(0, 50))"
   ]
  },
  {
   "cell_type": "code",
   "execution_count": null,
   "id": "db43273d",
   "metadata": {},
   "outputs": [],
   "source": []
  }
 ],
 "metadata": {
  "kernelspec": {
   "display_name": "Python 3",
   "language": "python",
   "name": "python3"
  },
  "language_info": {
   "codemirror_mode": {
    "name": "ipython",
    "version": 3
   },
   "file_extension": ".py",
   "mimetype": "text/x-python",
   "name": "python",
   "nbconvert_exporter": "python",
   "pygments_lexer": "ipython3",
   "version": "3.8.8"
  }
 },
 "nbformat": 4,
 "nbformat_minor": 5
}
